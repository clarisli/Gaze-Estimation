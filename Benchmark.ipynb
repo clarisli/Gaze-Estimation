{
 "cells": [
  {
   "cell_type": "markdown",
   "metadata": {},
   "source": [
    "# Computer Pointer Controller - Benchmark"
   ]
  },
  {
   "cell_type": "markdown",
   "metadata": {},
   "source": [
    "## Step 1: Inference on a Video\n",
    "\n",
    "In the next few cells, run inference on the following hardware types:\n",
    "* CPU\n",
    "* GPU\n",
    "\n",
    "against models with following precisions:\n",
    "* FP32\n",
    "* FP16\n",
    "* FP16-INT8\n",
    "\n",
    "After the inferences complete, you can get your results in the `results/<DEVICE>` directory. There should be an output video and a stats text file.\n",
    "\n",
    "For example, your **CPU** results should be in this directory: **results/CPU**\n",
    "\n",
    "### Step 1.1: Run Inference with CPU"
   ]
  },
  {
   "cell_type": "code",
   "execution_count": 4,
   "metadata": {
    "scrolled": true
   },
   "outputs": [
    {
     "name": "stderr",
     "output_type": "stream",
     "text": [
      "2020-07-08 18:43:05,825 [INFO] Model load time: 649.3ms\n",
      "2020-07-08 18:43:14,687 [INFO] Inference time:8600.0ms\n",
      "2020-07-08 18:43:14,687 [INFO] Input/output preprocess time:257.8ms\n",
      "2020-07-08 18:43:14,687 [INFO] FPS:6.86046511627907\n",
      "\n",
      "Failed to load OpenH264 library: openh264-1.7.0-win64.dll\n",
      "\tPlease check environment and/or download library: https://github.com/cisco/openh264/releases\n",
      "\n",
      "[libopenh264 @ 000001677c18eac0] Incorrect library version loaded\n",
      "Could not open codec 'libopenh264': Unspecified error\n"
     ]
    }
   ],
   "source": [
    "!python src\\main.py -mfd models\\intel\\face-detection-adas-binary-0001\\FP32-INT1\\face-detection-adas-binary-0001 -mhpe models\\intel\\head-pose-estimation-adas-0001\\FP32\\head-pose-estimation-adas-0001 -mfld models\\intel\\landmarks-regression-retail-0009\\FP32\\landmarks-regression-retail-0009 -mge models\\intel\\gaze-estimation-adas-0002\\FP32\\gaze-estimation-adas-0002 -o results\\FP32 -i bin\\demo.mp4 -it video --device CPU"
   ]
  },
  {
   "cell_type": "code",
   "execution_count": 5,
   "metadata": {},
   "outputs": [
    {
     "name": "stderr",
     "output_type": "stream",
     "text": [
      "2020-07-08 18:43:49,396 [INFO] Model load time: 648.5ms\n",
      "2020-07-08 18:43:58,392 [INFO] Inference time:8700.0ms\n",
      "2020-07-08 18:43:58,392 [INFO] Input/output preprocess time:288.2ms\n",
      "2020-07-08 18:43:58,392 [INFO] FPS:6.781609195402299\n",
      "\n",
      "Failed to load OpenH264 library: openh264-1.7.0-win64.dll\n",
      "\tPlease check environment and/or download library: https://github.com/cisco/openh264/releases\n",
      "\n",
      "[libopenh264 @ 000002217ee6eac0] Incorrect library version loaded\n",
      "Could not open codec 'libopenh264': Unspecified error\n"
     ]
    }
   ],
   "source": [
    "!python src\\main.py -mfd .\\models\\intel\\face-detection-adas-binary-0001\\FP32-INT1\\face-detection-adas-binary-0001 -mhpe .\\models\\intel\\head-pose-estimation-adas-0001\\FP16\\head-pose-estimation-adas-0001 -mfld .\\models\\intel\\landmarks-regression-retail-0009\\FP16\\landmarks-regression-retail-0009 -mge .\\models\\intel\\gaze-estimation-adas-0002\\FP16\\gaze-estimation-adas-0002 -o results\\FP16 -i bin\\demo.mp4 -it video --device CPU"
   ]
  },
  {
   "cell_type": "code",
   "execution_count": 15,
   "metadata": {},
   "outputs": [
    {
     "name": "stderr",
     "output_type": "stream",
     "text": [
      "2020-07-08 18:57:42,245 [INFO] Model load time: 938.2ms\n",
      "2020-07-08 18:57:51,132 [INFO] Inference time:8600.0ms\n",
      "2020-07-08 18:57:51,132 [INFO] Input/output preprocess time:261.6ms\n",
      "2020-07-08 18:57:51,132 [INFO] FPS:6.86046511627907\n",
      "\n",
      "Failed to load OpenH264 library: openh264-1.7.0-win64.dll\n",
      "\tPlease check environment and/or download library: https://github.com/cisco/openh264/releases\n",
      "\n",
      "[libopenh264 @ 000001fbc06b5200] Incorrect library version loaded\n",
      "Could not open codec 'libopenh264': Unspecified error\n"
     ]
    }
   ],
   "source": [
    "!python src\\main.py -mfd .\\models\\intel\\face-detection-adas-binary-0001\\FP32-INT1\\face-detection-adas-binary-0001 -mhpe .\\models\\intel\\head-pose-estimation-adas-0001\\FP16-INT8\\head-pose-estimation-adas-0001 -mfld .\\models\\intel\\landmarks-regression-retail-0009\\FP16-INT8\\landmarks-regression-retail-0009 -mge .\\models\\intel\\gaze-estimation-adas-0002\\FP16-INT8\\gaze-estimation-adas-0002 -o results\\FP16-INT8 -i bin\\demo.mp4 -it video --device CPU"
   ]
  },
  {
   "cell_type": "markdown",
   "metadata": {},
   "source": [
    "### Step 1.2: Run Inference with GPU"
   ]
  },
  {
   "cell_type": "code",
   "execution_count": 7,
   "metadata": {
    "scrolled": true
   },
   "outputs": [
    {
     "name": "stderr",
     "output_type": "stream",
     "text": [
      "2020-07-08 18:46:02,246 [INFO] Model load time: 641.0ms\n",
      "2020-07-08 18:46:11,001 [INFO] Inference time:8500.0ms\n",
      "2020-07-08 18:46:11,001 [INFO] Input/output preprocess time:257.9ms\n",
      "2020-07-08 18:46:11,001 [INFO] FPS:6.9411764705882355\n",
      "\n",
      "Failed to load OpenH264 library: openh264-1.7.0-win64.dll\n",
      "\tPlease check environment and/or download library: https://github.com/cisco/openh264/releases\n",
      "\n",
      "[libopenh264 @ 0000026814d5eac0] Incorrect library version loaded\n",
      "Could not open codec 'libopenh264': Unspecified error\n"
     ]
    }
   ],
   "source": [
    "!python src\\main.py -mfd models\\intel\\face-detection-adas-binary-0001\\FP32-INT1\\face-detection-adas-binary-0001 -mhpe models\\intel\\head-pose-estimation-adas-0001\\FP32\\head-pose-estimation-adas-0001 -mfld models\\intel\\landmarks-regression-retail-0009\\FP32\\landmarks-regression-retail-0009 -mge models\\intel\\gaze-estimation-adas-0002\\FP32\\gaze-estimation-adas-0002 -o results\\FP32 -i bin\\demo.mp4 -it video --device GPU"
   ]
  },
  {
   "cell_type": "code",
   "execution_count": 6,
   "metadata": {
    "scrolled": true
   },
   "outputs": [
    {
     "name": "stderr",
     "output_type": "stream",
     "text": [
      "2020-07-08 18:45:42,641 [INFO] Model load time: 656.2ms\n",
      "2020-07-08 18:45:51,563 [INFO] Inference time:8600.0ms\n",
      "2020-07-08 18:45:51,563 [INFO] Input/output preprocess time:274.6ms\n",
      "2020-07-08 18:45:51,563 [INFO] FPS:6.86046511627907\n",
      "\n",
      "Failed to load OpenH264 library: openh264-1.7.0-win64.dll\n",
      "\tPlease check environment and/or download library: https://github.com/cisco/openh264/releases\n",
      "\n",
      "[libopenh264 @ 00000237d5f1eac0] Incorrect library version loaded\n",
      "Could not open codec 'libopenh264': Unspecified error\n"
     ]
    }
   ],
   "source": [
    "!python src\\main.py -mfd .\\models\\intel\\face-detection-adas-binary-0001\\FP32-INT1\\face-detection-adas-binary-0001 -mhpe .\\models\\intel\\head-pose-estimation-adas-0001\\FP16\\head-pose-estimation-adas-0001 -mfld .\\models\\intel\\landmarks-regression-retail-0009\\FP16\\landmarks-regression-retail-0009 -mge .\\models\\intel\\gaze-estimation-adas-0002\\FP16\\gaze-estimation-adas-0002 -o results\\FP16 -i bin\\demo.mp4 -it video --device GPU"
   ]
  },
  {
   "cell_type": "code",
   "execution_count": 16,
   "metadata": {},
   "outputs": [
    {
     "name": "stderr",
     "output_type": "stream",
     "text": [
      "2020-07-08 18:58:51,635 [INFO] Model load time: 785.5ms\n",
      "2020-07-08 18:59:00,360 [INFO] Inference time:8400.0ms\n",
      "2020-07-08 18:59:00,360 [INFO] Input/output preprocess time:262.9ms\n",
      "2020-07-08 18:59:00,361 [INFO] FPS:7.023809523809524\n",
      "\n",
      "Failed to load OpenH264 library: openh264-1.7.0-win64.dll\n",
      "\tPlease check environment and/or download library: https://github.com/cisco/openh264/releases\n",
      "\n",
      "[libopenh264 @ 00000216c07f5200] Incorrect library version loaded\n",
      "Could not open codec 'libopenh264': Unspecified error\n"
     ]
    }
   ],
   "source": [
    "!python src\\main.py -mfd .\\models\\intel\\face-detection-adas-binary-0001\\FP32-INT1\\face-detection-adas-binary-0001 -mhpe .\\models\\intel\\head-pose-estimation-adas-0001\\FP16-INT8\\head-pose-estimation-adas-0001 -mfld .\\models\\intel\\landmarks-regression-retail-0009\\FP16-INT8\\landmarks-regression-retail-0009 -mge .\\models\\intel\\gaze-estimation-adas-0002\\FP16-INT8\\gaze-estimation-adas-0002 -o results\\FP16-INT8 -i bin\\demo.mp4 -it video --device GPU"
   ]
  },
  {
   "cell_type": "markdown",
   "metadata": {},
   "source": [
    "## Step 2: Access Performance\n",
    "\n",
    "Run the cells below to compare the performance of CPU and GPU. The following timings for models are being compared:\n",
    "* Model Loading Time\n",
    "* Inference Time\n",
    "* Input/Output Preprocess Time\n",
    "* FPS"
   ]
  },
  {
   "cell_type": "code",
   "execution_count": 18,
   "metadata": {},
   "outputs": [],
   "source": [
    "import matplotlib.pyplot as plt\n",
    "\n",
    "device_list=['fp32/cpu', 'fp16/cpu', 'fp16-int8/cpu', 'fp32/gpu', 'fp16/gpu', 'fp16-int8/gpu']\n",
    "inference_time=[]\n",
    "preprocess_time=[]\n",
    "fps=[]\n",
    "model_load_time=[]\n",
    "\n",
    "\n",
    "for device in device_list:\n",
    "    with open('results/'+device.upper()+'/stats.txt', 'r') as f:\n",
    "        inference_time.append(float(f.readline().split(\"\\n\")[0]))\n",
    "        preprocess_time.append(float(f.readline().split(\"\\n\")[0]))\n",
    "        fps.append(float(f.readline().split(\"\\n\")[0]))\n",
    "        model_load_time.append(float(f.readline().split(\"\\n\")[0]))"
   ]
  },
  {
   "cell_type": "code",
   "execution_count": 28,
   "metadata": {},
   "outputs": [
    {
     "data": {
      "image/png": "[encoded data removed]",
      "text/plain": [
       "<Figure size 432x288 with 1 Axes>"
      ]
     },
     "metadata": {
      "needs_background": "light"
     },
     "output_type": "display_data"
    }
   ],
   "source": [
    "plt.bar(device_list, inference_time)\n",
    "plt.xlabel(\"Device and Precision Used\")\n",
    "plt.ylabel(\"Total Inference Time in Seconds\")\n",
    "plt.xticks(rotation=45)\n",
    "plt.show()"
   ]
  },
  {
   "cell_type": "code",
   "execution_count": 29,
   "metadata": {},
   "outputs": [
    {
     "data": {
      "image/png": "[encoded data removed]",
      "text/plain": [
       "<Figure size 432x288 with 1 Axes>"
      ]
     },
     "metadata": {
      "needs_background": "light"
     },
     "output_type": "display_data"
    }
   ],
   "source": [
    "plt.bar(device_list, preprocess_time)\n",
    "plt.xlabel(\"Device and Precision Used\")\n",
    "plt.ylabel(\"Total Input/Output Preprocess Time in Seconds\")\n",
    "plt.xticks(rotation=45)\n",
    "plt.show()"
   ]
  },
  {
   "cell_type": "code",
   "execution_count": 30,
   "metadata": {},
   "outputs": [
    {
     "data": {
      "image/png": "[encoded data removed]",
      "text/plain": [
       "<Figure size 432x288 with 1 Axes>"
      ]
     },
     "metadata": {
      "needs_background": "light"
     },
     "output_type": "display_data"
    }
   ],
   "source": [
    "plt.bar(device_list, fps)\n",
    "plt.xlabel(\"Device and Precision Used\")\n",
    "plt.ylabel(\"Frames per Second\")\n",
    "plt.xticks(rotation=45)\n",
    "plt.show()"
   ]
  },
  {
   "cell_type": "code",
   "execution_count": 31,
   "metadata": {},
   "outputs": [
    {
     "data": {
      "image/png": "[encoded data removed]",
      "text/plain": [
       "<Figure size 432x288 with 1 Axes>"
      ]
     },
     "metadata": {
      "needs_background": "light"
     },
     "output_type": "display_data"
    }
   ],
   "source": [
    "plt.bar(device_list, model_load_time)\n",
    "plt.xlabel(\"Device and Precision Used\")\n",
    "plt.ylabel(\"Model Loading Time in Seconds\")\n",
    "plt.xticks(rotation=45)\n",
    "plt.show()"
   ]
  },
  {
   "cell_type": "code",
   "execution_count": null,
   "metadata": {},
   "outputs": [],
   "source": []
  }
 ],
 "metadata": {
  "kernelspec": {
   "display_name": "Python 3",
   "language": "python",
   "name": "python3"
  },
  "language_info": {
   "codemirror_mode": {
    "name": "ipython",
    "version": 3
   },
   "file_extension": ".py",
   "mimetype": "text/x-python",
   "name": "python",
   "nbconvert_exporter": "python",
   "pygments_lexer": "ipython3",
   "version": "3.7.0"
  }
 },
 "nbformat": 4,
 "nbformat_minor": 4
}
